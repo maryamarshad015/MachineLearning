{
  "nbformat": 4,
  "nbformat_minor": 0,
  "metadata": {
    "colab": {
      "provenance": [],
      "authorship_tag": "ABX9TyPM6WpwREjPD7F/deqxaE2A",
      "include_colab_link": true
    },
    "kernelspec": {
      "name": "python3",
      "display_name": "Python 3"
    },
    "language_info": {
      "name": "python"
    }
  },
  "cells": [
    {
      "cell_type": "markdown",
      "metadata": {
        "id": "view-in-github",
        "colab_type": "text"
      },
      "source": [
        "<a href=\"https://colab.research.google.com/github/maryamarshad015/Pre-MachineLearning/blob/main/Machine_Learning.ipynb\" target=\"_parent\"><img src=\"https://colab.research.google.com/assets/colab-badge.svg\" alt=\"Open In Colab\"/></a>"
      ]
    },
    {
      "cell_type": "markdown",
      "source": [
        "Lab 01: Introduction to Python for Machine Learning\n"
      ],
      "metadata": {
        "id": "YIXbgcI_FqoI"
      }
    },
    {
      "cell_type": "markdown",
      "source": [
        "Lab Overview\n",
        "\n",
        "In this lab, we will cover the following topics:\n",
        "\n",
        "1.A brief review of Python for machine learning.\n",
        "\n",
        "2.Setting up and using Google Colab.\n",
        "\n",
        "3.Learning essential Python concepts that are foundational for machine learning.\n",
        "\n",
        "4.Performing basic Python coding tasks.\n",
        "\n",
        "5.Assigning a homework task for additional practice.\n",
        "\n",
        "\n"
      ],
      "metadata": {
        "id": "RuB0eoLAGAxB"
      }
    },
    {
      "cell_type": "markdown",
      "source": [
        "Objective\n",
        "\n",
        "By the end of this lab, students will be able to:\n",
        "\n",
        "1.Set up and run Python code in Google Colab.\n",
        "\n",
        "2.Understand basic Python concepts, including data types, loops, functions, and libraries like NumPy and Pandas.\n",
        "\n",
        "3.Write simple Python scripts essential for machine learning.\n",
        "\n"
      ],
      "metadata": {
        "id": "dCRqXxnKGWpf"
      }
    },
    {
      "cell_type": "markdown",
      "source": [
        "Task 1: Python Basics Review\n",
        "\n",
        "Create a Python script that:\n",
        "\n",
        "1.Defines two variables (one integer, one string).\n",
        "\n"
      ],
      "metadata": {
        "id": "BJXIcULYGn5f"
      }
    },
    {
      "cell_type": "code",
      "execution_count": null,
      "metadata": {
        "id": "KCtymlGMgNap"
      },
      "outputs": [],
      "source": [
        "number=45\n",
        "word = 'welcome'"
      ]
    },
    {
      "cell_type": "markdown",
      "source": [
        "2.Uses an if-else statement to print a message depending on the value of the integer."
      ],
      "metadata": {
        "id": "u6uEYTFgG22z"
      }
    },
    {
      "cell_type": "code",
      "source": [
        "if number > 32:\n",
        "  print(f'number:{number}')\n",
        "else:\n",
        "  print(\"False\")"
      ],
      "metadata": {
        "colab": {
          "base_uri": "https://localhost:8080/"
        },
        "id": "NJ2L64UegkdY",
        "outputId": "65fe53d6-fdcf-433c-ffe3-197f529d1357"
      },
      "execution_count": null,
      "outputs": [
        {
          "output_type": "stream",
          "name": "stdout",
          "text": [
            "number:45\n"
          ]
        }
      ]
    },
    {
      "cell_type": "markdown",
      "source": [
        "3.Creates a list of five elements and prints the first three.\n",
        "\n"
      ],
      "metadata": {
        "id": "41n0amULG9bd"
      }
    },
    {
      "cell_type": "code",
      "source": [
        "list_num = [2,3,5,6,7]\n",
        "#slicing\n",
        "print(list_num[:3])\n",
        "\n",
        "#for loop in list comprehension\n",
        "[print(num) for num in list_num[:3]]\n",
        "\n"
      ],
      "metadata": {
        "colab": {
          "base_uri": "https://localhost:8080/"
        },
        "id": "d-KPBvLPgl2A",
        "outputId": "d8fa67de-1302-4f23-f374-f2440ce49273"
      },
      "execution_count": null,
      "outputs": [
        {
          "output_type": "stream",
          "name": "stdout",
          "text": [
            "[2, 3, 5]\n",
            "2\n",
            "3\n",
            "5\n"
          ]
        },
        {
          "output_type": "execute_result",
          "data": {
            "text/plain": [
              "[None, None, None]"
            ]
          },
          "metadata": {},
          "execution_count": 5
        }
      ]
    },
    {
      "cell_type": "markdown",
      "source": [
        "4.Defines a function that multiplies two numbers and prints the result."
      ],
      "metadata": {
        "id": "JuQ-71xPHDc-"
      }
    },
    {
      "cell_type": "code",
      "source": [
        "def multiply(num1,num2):\n",
        "  return num1*num2\n",
        "\n",
        "print(multiply(2,3))"
      ],
      "metadata": {
        "colab": {
          "base_uri": "https://localhost:8080/"
        },
        "id": "kGEMgZvZg8bP",
        "outputId": "6ddf7df8-397b-472d-caec-57e0ea81d48b"
      },
      "execution_count": null,
      "outputs": [
        {
          "output_type": "stream",
          "name": "stdout",
          "text": [
            "6\n"
          ]
        }
      ]
    },
    {
      "cell_type": "markdown",
      "source": [
        "Task 2: NumPy and Pandas"
      ],
      "metadata": {
        "id": "EDOjn_93ibov"
      }
    },
    {
      "cell_type": "code",
      "source": [
        "import numpy as np\n",
        "import pandas as pd"
      ],
      "metadata": {
        "id": "1zQOr1CRis-H"
      },
      "execution_count": null,
      "outputs": []
    },
    {
      "cell_type": "markdown",
      "source": [
        "1.Create a NumPy array of numbers from 1 to 10 and calculate the mean."
      ],
      "metadata": {
        "id": "4FVQfFG0IrYL"
      }
    },
    {
      "cell_type": "code",
      "source": [
        "np_arr = np.array(range(1,10+1))\n",
        "print(np_arr.mean())"
      ],
      "metadata": {
        "colab": {
          "base_uri": "https://localhost:8080/"
        },
        "id": "rIjddAqNIQvs",
        "outputId": "8ec45ebf-d4d4-46e1-a74a-d243da9def67"
      },
      "execution_count": null,
      "outputs": [
        {
          "output_type": "stream",
          "name": "stdout",
          "text": [
            "5.5\n"
          ]
        }
      ]
    },
    {
      "cell_type": "markdown",
      "source": [
        "2.Create a Pandas DataFrame using a dictionary with at least two columns (e.g., Name and Score) and print the first two rows."
      ],
      "metadata": {
        "id": "aGLogJVPIu7S"
      }
    },
    {
      "cell_type": "code",
      "source": [
        "score_dict = {'Name':['Nick','Donald','John'],'Score':[34,54,66]}\n",
        "df = pd.DataFrame(score_dict)\n",
        "df.iloc[:2]"
      ],
      "metadata": {
        "colab": {
          "base_uri": "https://localhost:8080/",
          "height": 112
        },
        "id": "8eK_55A0lYY5",
        "outputId": "d68fb758-ab0d-4f23-f049-e2efb773c472"
      },
      "execution_count": null,
      "outputs": [
        {
          "output_type": "execute_result",
          "data": {
            "text/plain": [
              "     Name  Score\n",
              "0    Nick     34\n",
              "1  Donald     54"
            ],
            "text/html": [
              "\n",
              "  <div id=\"df-b62c21d2-1b94-4468-adcf-25558813407d\" class=\"colab-df-container\">\n",
              "    <div>\n",
              "<style scoped>\n",
              "    .dataframe tbody tr th:only-of-type {\n",
              "        vertical-align: middle;\n",
              "    }\n",
              "\n",
              "    .dataframe tbody tr th {\n",
              "        vertical-align: top;\n",
              "    }\n",
              "\n",
              "    .dataframe thead th {\n",
              "        text-align: right;\n",
              "    }\n",
              "</style>\n",
              "<table border=\"1\" class=\"dataframe\">\n",
              "  <thead>\n",
              "    <tr style=\"text-align: right;\">\n",
              "      <th></th>\n",
              "      <th>Name</th>\n",
              "      <th>Score</th>\n",
              "    </tr>\n",
              "  </thead>\n",
              "  <tbody>\n",
              "    <tr>\n",
              "      <th>0</th>\n",
              "      <td>Nick</td>\n",
              "      <td>34</td>\n",
              "    </tr>\n",
              "    <tr>\n",
              "      <th>1</th>\n",
              "      <td>Donald</td>\n",
              "      <td>54</td>\n",
              "    </tr>\n",
              "  </tbody>\n",
              "</table>\n",
              "</div>\n",
              "    <div class=\"colab-df-buttons\">\n",
              "\n",
              "  <div class=\"colab-df-container\">\n",
              "    <button class=\"colab-df-convert\" onclick=\"convertToInteractive('df-b62c21d2-1b94-4468-adcf-25558813407d')\"\n",
              "            title=\"Convert this dataframe to an interactive table.\"\n",
              "            style=\"display:none;\">\n",
              "\n",
              "  <svg xmlns=\"http://www.w3.org/2000/svg\" height=\"24px\" viewBox=\"0 -960 960 960\">\n",
              "    <path d=\"M120-120v-720h720v720H120Zm60-500h600v-160H180v160Zm220 220h160v-160H400v160Zm0 220h160v-160H400v160ZM180-400h160v-160H180v160Zm440 0h160v-160H620v160ZM180-180h160v-160H180v160Zm440 0h160v-160H620v160Z\"/>\n",
              "  </svg>\n",
              "    </button>\n",
              "\n",
              "  <style>\n",
              "    .colab-df-container {\n",
              "      display:flex;\n",
              "      gap: 12px;\n",
              "    }\n",
              "\n",
              "    .colab-df-convert {\n",
              "      background-color: #E8F0FE;\n",
              "      border: none;\n",
              "      border-radius: 50%;\n",
              "      cursor: pointer;\n",
              "      display: none;\n",
              "      fill: #1967D2;\n",
              "      height: 32px;\n",
              "      padding: 0 0 0 0;\n",
              "      width: 32px;\n",
              "    }\n",
              "\n",
              "    .colab-df-convert:hover {\n",
              "      background-color: #E2EBFA;\n",
              "      box-shadow: 0px 1px 2px rgba(60, 64, 67, 0.3), 0px 1px 3px 1px rgba(60, 64, 67, 0.15);\n",
              "      fill: #174EA6;\n",
              "    }\n",
              "\n",
              "    .colab-df-buttons div {\n",
              "      margin-bottom: 4px;\n",
              "    }\n",
              "\n",
              "    [theme=dark] .colab-df-convert {\n",
              "      background-color: #3B4455;\n",
              "      fill: #D2E3FC;\n",
              "    }\n",
              "\n",
              "    [theme=dark] .colab-df-convert:hover {\n",
              "      background-color: #434B5C;\n",
              "      box-shadow: 0px 1px 3px 1px rgba(0, 0, 0, 0.15);\n",
              "      filter: drop-shadow(0px 1px 2px rgba(0, 0, 0, 0.3));\n",
              "      fill: #FFFFFF;\n",
              "    }\n",
              "  </style>\n",
              "\n",
              "    <script>\n",
              "      const buttonEl =\n",
              "        document.querySelector('#df-b62c21d2-1b94-4468-adcf-25558813407d button.colab-df-convert');\n",
              "      buttonEl.style.display =\n",
              "        google.colab.kernel.accessAllowed ? 'block' : 'none';\n",
              "\n",
              "      async function convertToInteractive(key) {\n",
              "        const element = document.querySelector('#df-b62c21d2-1b94-4468-adcf-25558813407d');\n",
              "        const dataTable =\n",
              "          await google.colab.kernel.invokeFunction('convertToInteractive',\n",
              "                                                    [key], {});\n",
              "        if (!dataTable) return;\n",
              "\n",
              "        const docLinkHtml = 'Like what you see? Visit the ' +\n",
              "          '<a target=\"_blank\" href=https://colab.research.google.com/notebooks/data_table.ipynb>data table notebook</a>'\n",
              "          + ' to learn more about interactive tables.';\n",
              "        element.innerHTML = '';\n",
              "        dataTable['output_type'] = 'display_data';\n",
              "        await google.colab.output.renderOutput(dataTable, element);\n",
              "        const docLink = document.createElement('div');\n",
              "        docLink.innerHTML = docLinkHtml;\n",
              "        element.appendChild(docLink);\n",
              "      }\n",
              "    </script>\n",
              "  </div>\n",
              "\n",
              "\n",
              "<div id=\"df-088a4df5-a4ea-44fa-a5c9-5640a6fbdb6e\">\n",
              "  <button class=\"colab-df-quickchart\" onclick=\"quickchart('df-088a4df5-a4ea-44fa-a5c9-5640a6fbdb6e')\"\n",
              "            title=\"Suggest charts\"\n",
              "            style=\"display:none;\">\n",
              "\n",
              "<svg xmlns=\"http://www.w3.org/2000/svg\" height=\"24px\"viewBox=\"0 0 24 24\"\n",
              "     width=\"24px\">\n",
              "    <g>\n",
              "        <path d=\"M19 3H5c-1.1 0-2 .9-2 2v14c0 1.1.9 2 2 2h14c1.1 0 2-.9 2-2V5c0-1.1-.9-2-2-2zM9 17H7v-7h2v7zm4 0h-2V7h2v10zm4 0h-2v-4h2v4z\"/>\n",
              "    </g>\n",
              "</svg>\n",
              "  </button>\n",
              "\n",
              "<style>\n",
              "  .colab-df-quickchart {\n",
              "      --bg-color: #E8F0FE;\n",
              "      --fill-color: #1967D2;\n",
              "      --hover-bg-color: #E2EBFA;\n",
              "      --hover-fill-color: #174EA6;\n",
              "      --disabled-fill-color: #AAA;\n",
              "      --disabled-bg-color: #DDD;\n",
              "  }\n",
              "\n",
              "  [theme=dark] .colab-df-quickchart {\n",
              "      --bg-color: #3B4455;\n",
              "      --fill-color: #D2E3FC;\n",
              "      --hover-bg-color: #434B5C;\n",
              "      --hover-fill-color: #FFFFFF;\n",
              "      --disabled-bg-color: #3B4455;\n",
              "      --disabled-fill-color: #666;\n",
              "  }\n",
              "\n",
              "  .colab-df-quickchart {\n",
              "    background-color: var(--bg-color);\n",
              "    border: none;\n",
              "    border-radius: 50%;\n",
              "    cursor: pointer;\n",
              "    display: none;\n",
              "    fill: var(--fill-color);\n",
              "    height: 32px;\n",
              "    padding: 0;\n",
              "    width: 32px;\n",
              "  }\n",
              "\n",
              "  .colab-df-quickchart:hover {\n",
              "    background-color: var(--hover-bg-color);\n",
              "    box-shadow: 0 1px 2px rgba(60, 64, 67, 0.3), 0 1px 3px 1px rgba(60, 64, 67, 0.15);\n",
              "    fill: var(--button-hover-fill-color);\n",
              "  }\n",
              "\n",
              "  .colab-df-quickchart-complete:disabled,\n",
              "  .colab-df-quickchart-complete:disabled:hover {\n",
              "    background-color: var(--disabled-bg-color);\n",
              "    fill: var(--disabled-fill-color);\n",
              "    box-shadow: none;\n",
              "  }\n",
              "\n",
              "  .colab-df-spinner {\n",
              "    border: 2px solid var(--fill-color);\n",
              "    border-color: transparent;\n",
              "    border-bottom-color: var(--fill-color);\n",
              "    animation:\n",
              "      spin 1s steps(1) infinite;\n",
              "  }\n",
              "\n",
              "  @keyframes spin {\n",
              "    0% {\n",
              "      border-color: transparent;\n",
              "      border-bottom-color: var(--fill-color);\n",
              "      border-left-color: var(--fill-color);\n",
              "    }\n",
              "    20% {\n",
              "      border-color: transparent;\n",
              "      border-left-color: var(--fill-color);\n",
              "      border-top-color: var(--fill-color);\n",
              "    }\n",
              "    30% {\n",
              "      border-color: transparent;\n",
              "      border-left-color: var(--fill-color);\n",
              "      border-top-color: var(--fill-color);\n",
              "      border-right-color: var(--fill-color);\n",
              "    }\n",
              "    40% {\n",
              "      border-color: transparent;\n",
              "      border-right-color: var(--fill-color);\n",
              "      border-top-color: var(--fill-color);\n",
              "    }\n",
              "    60% {\n",
              "      border-color: transparent;\n",
              "      border-right-color: var(--fill-color);\n",
              "    }\n",
              "    80% {\n",
              "      border-color: transparent;\n",
              "      border-right-color: var(--fill-color);\n",
              "      border-bottom-color: var(--fill-color);\n",
              "    }\n",
              "    90% {\n",
              "      border-color: transparent;\n",
              "      border-bottom-color: var(--fill-color);\n",
              "    }\n",
              "  }\n",
              "</style>\n",
              "\n",
              "  <script>\n",
              "    async function quickchart(key) {\n",
              "      const quickchartButtonEl =\n",
              "        document.querySelector('#' + key + ' button');\n",
              "      quickchartButtonEl.disabled = true;  // To prevent multiple clicks.\n",
              "      quickchartButtonEl.classList.add('colab-df-spinner');\n",
              "      try {\n",
              "        const charts = await google.colab.kernel.invokeFunction(\n",
              "            'suggestCharts', [key], {});\n",
              "      } catch (error) {\n",
              "        console.error('Error during call to suggestCharts:', error);\n",
              "      }\n",
              "      quickchartButtonEl.classList.remove('colab-df-spinner');\n",
              "      quickchartButtonEl.classList.add('colab-df-quickchart-complete');\n",
              "    }\n",
              "    (() => {\n",
              "      let quickchartButtonEl =\n",
              "        document.querySelector('#df-088a4df5-a4ea-44fa-a5c9-5640a6fbdb6e button');\n",
              "      quickchartButtonEl.style.display =\n",
              "        google.colab.kernel.accessAllowed ? 'block' : 'none';\n",
              "    })();\n",
              "  </script>\n",
              "</div>\n",
              "\n",
              "    </div>\n",
              "  </div>\n"
            ],
            "application/vnd.google.colaboratory.intrinsic+json": {
              "type": "dataframe",
              "summary": "{\n  \"name\": \"df\",\n  \"rows\": 2,\n  \"fields\": [\n    {\n      \"column\": \"Name\",\n      \"properties\": {\n        \"dtype\": \"string\",\n        \"num_unique_values\": 2,\n        \"samples\": [\n          \"Donald\",\n          \"Nick\"\n        ],\n        \"semantic_type\": \"\",\n        \"description\": \"\"\n      }\n    },\n    {\n      \"column\": \"Score\",\n      \"properties\": {\n        \"dtype\": \"number\",\n        \"std\": 14,\n        \"min\": 34,\n        \"max\": 54,\n        \"num_unique_values\": 2,\n        \"samples\": [\n          54,\n          34\n        ],\n        \"semantic_type\": \"\",\n        \"description\": \"\"\n      }\n    }\n  ]\n}"
            }
          },
          "metadata": {},
          "execution_count": 104
        }
      ]
    },
    {
      "cell_type": "markdown",
      "source": [
        "Part 5: Homework Assignment\n",
        "\n",
        "Homework Task 1: Python Functions and Loops\n",
        "\n",
        "Write a Python program that:\n",
        "\n",
        "1.Accepts user input for three numbers.\n",
        "\n",
        "2.Calculates and prints the average of these numbers using a function.\n"
      ],
      "metadata": {
        "id": "Sczj6VDPLTy7"
      }
    },
    {
      "cell_type": "code",
      "source": [
        "n1 = int(input(\"Num1:\"))\n",
        "n2 = int(input(\"Num2:\"))\n",
        "n3 = int(input(\"Num3:\"))\n",
        "\n",
        "np_arr = np.array([n1,n2,n3])\n",
        "\n",
        "#printing avg\n",
        "print(f'Average: {round(np_arr.mean(),2)}')"
      ],
      "metadata": {
        "colab": {
          "base_uri": "https://localhost:8080/"
        },
        "id": "B4aKGkguLwAH",
        "outputId": "339b39f0-51a4-4b58-f25e-929ccb9e58ee"
      },
      "execution_count": null,
      "outputs": [
        {
          "output_type": "stream",
          "name": "stdout",
          "text": [
            "Num1:34\n",
            "Num2:21\n",
            "Num3:45\n",
            "Average: 33.33\n"
          ]
        }
      ]
    },
    {
      "cell_type": "markdown",
      "source": [
        "3.Uses a loop to display numbers from 1 to 10, but only prints even numbers."
      ],
      "metadata": {
        "id": "qrjhb54lMB2e"
      }
    },
    {
      "cell_type": "code",
      "source": [
        "print([num for num in range(10+1) if num%2 == 0])"
      ],
      "metadata": {
        "colab": {
          "base_uri": "https://localhost:8080/"
        },
        "id": "DTCYs5zZpUh7",
        "outputId": "821e430a-d364-437a-8300-2fda6140c63c"
      },
      "execution_count": null,
      "outputs": [
        {
          "output_type": "stream",
          "name": "stdout",
          "text": [
            "[0, 2, 4, 6, 8, 10]\n"
          ]
        }
      ]
    },
    {
      "cell_type": "markdown",
      "source": [
        "Homework Task 2: NumPy and Data Analysis\n",
        "Write a Python script in Colab that:\n",
        "\n",
        "1.Creates a NumPy array of random numbers (size 10) and calculates the standard deviation."
      ],
      "metadata": {
        "id": "7HNgQm4aMMgu"
      }
    },
    {
      "cell_type": "code",
      "source": [
        "import random\n",
        "\n",
        "array = np.array([random.randint(1,100) for num in range(10)])\n",
        "print(f'Standard Deviation: {round(array.std(),2)}')"
      ],
      "metadata": {
        "id": "PoNYHD-_tmyM",
        "colab": {
          "base_uri": "https://localhost:8080/"
        },
        "outputId": "ba104d19-920d-4f3f-81e1-87ecd6104f00"
      },
      "execution_count": null,
      "outputs": [
        {
          "output_type": "stream",
          "name": "stdout",
          "text": [
            "Standard Deviation: 22.42\n"
          ]
        }
      ]
    },
    {
      "cell_type": "markdown",
      "source": [
        "2.Loads a dataset into a Pandas DataFrame, prints the column names, and displays the summary statistics for numerical columns."
      ],
      "metadata": {
        "id": "hP7jxIdYOhZk"
      }
    },
    {
      "cell_type": "code",
      "source": [
        "dataset = pd.read_csv('CrimesOnWomenIndia.csv')\n",
        "dataframe = pd.DataFrame(dataset)\n",
        "dataframe.head()"
      ],
      "metadata": {
        "colab": {
          "base_uri": "https://localhost:8080/",
          "height": 206
        },
        "id": "bQ-Ad5L0NBYp",
        "outputId": "0baf9eac-e95a-40a3-af6e-b00c9a1e8701"
      },
      "execution_count": null,
      "outputs": [
        {
          "output_type": "execute_result",
          "data": {
            "text/plain": [
              "   Unnamed: 0              State  Year  Rape   K&A   DD   AoW   AoM    DV  WT\n",
              "0           0     ANDHRA PRADESH  2001   871   765  420  3544  2271  5791   7\n",
              "1           1  ARUNACHAL PRADESH  2001    33    55    0    78     3    11   0\n",
              "2           2              ASSAM  2001   817  1070   59   850     4  1248   0\n",
              "3           3              BIHAR  2001   888   518  859   562    21  1558  83\n",
              "4           4       CHHATTISGARH  2001   959   171   70  1763   161   840   0"
            ],
            "text/html": [
              "\n",
              "  <div id=\"df-b8490615-b33f-4958-9b00-175d20e4530e\" class=\"colab-df-container\">\n",
              "    <div>\n",
              "<style scoped>\n",
              "    .dataframe tbody tr th:only-of-type {\n",
              "        vertical-align: middle;\n",
              "    }\n",
              "\n",
              "    .dataframe tbody tr th {\n",
              "        vertical-align: top;\n",
              "    }\n",
              "\n",
              "    .dataframe thead th {\n",
              "        text-align: right;\n",
              "    }\n",
              "</style>\n",
              "<table border=\"1\" class=\"dataframe\">\n",
              "  <thead>\n",
              "    <tr style=\"text-align: right;\">\n",
              "      <th></th>\n",
              "      <th>Unnamed: 0</th>\n",
              "      <th>State</th>\n",
              "      <th>Year</th>\n",
              "      <th>Rape</th>\n",
              "      <th>K&amp;A</th>\n",
              "      <th>DD</th>\n",
              "      <th>AoW</th>\n",
              "      <th>AoM</th>\n",
              "      <th>DV</th>\n",
              "      <th>WT</th>\n",
              "    </tr>\n",
              "  </thead>\n",
              "  <tbody>\n",
              "    <tr>\n",
              "      <th>0</th>\n",
              "      <td>0</td>\n",
              "      <td>ANDHRA PRADESH</td>\n",
              "      <td>2001</td>\n",
              "      <td>871</td>\n",
              "      <td>765</td>\n",
              "      <td>420</td>\n",
              "      <td>3544</td>\n",
              "      <td>2271</td>\n",
              "      <td>5791</td>\n",
              "      <td>7</td>\n",
              "    </tr>\n",
              "    <tr>\n",
              "      <th>1</th>\n",
              "      <td>1</td>\n",
              "      <td>ARUNACHAL PRADESH</td>\n",
              "      <td>2001</td>\n",
              "      <td>33</td>\n",
              "      <td>55</td>\n",
              "      <td>0</td>\n",
              "      <td>78</td>\n",
              "      <td>3</td>\n",
              "      <td>11</td>\n",
              "      <td>0</td>\n",
              "    </tr>\n",
              "    <tr>\n",
              "      <th>2</th>\n",
              "      <td>2</td>\n",
              "      <td>ASSAM</td>\n",
              "      <td>2001</td>\n",
              "      <td>817</td>\n",
              "      <td>1070</td>\n",
              "      <td>59</td>\n",
              "      <td>850</td>\n",
              "      <td>4</td>\n",
              "      <td>1248</td>\n",
              "      <td>0</td>\n",
              "    </tr>\n",
              "    <tr>\n",
              "      <th>3</th>\n",
              "      <td>3</td>\n",
              "      <td>BIHAR</td>\n",
              "      <td>2001</td>\n",
              "      <td>888</td>\n",
              "      <td>518</td>\n",
              "      <td>859</td>\n",
              "      <td>562</td>\n",
              "      <td>21</td>\n",
              "      <td>1558</td>\n",
              "      <td>83</td>\n",
              "    </tr>\n",
              "    <tr>\n",
              "      <th>4</th>\n",
              "      <td>4</td>\n",
              "      <td>CHHATTISGARH</td>\n",
              "      <td>2001</td>\n",
              "      <td>959</td>\n",
              "      <td>171</td>\n",
              "      <td>70</td>\n",
              "      <td>1763</td>\n",
              "      <td>161</td>\n",
              "      <td>840</td>\n",
              "      <td>0</td>\n",
              "    </tr>\n",
              "  </tbody>\n",
              "</table>\n",
              "</div>\n",
              "    <div class=\"colab-df-buttons\">\n",
              "\n",
              "  <div class=\"colab-df-container\">\n",
              "    <button class=\"colab-df-convert\" onclick=\"convertToInteractive('df-b8490615-b33f-4958-9b00-175d20e4530e')\"\n",
              "            title=\"Convert this dataframe to an interactive table.\"\n",
              "            style=\"display:none;\">\n",
              "\n",
              "  <svg xmlns=\"http://www.w3.org/2000/svg\" height=\"24px\" viewBox=\"0 -960 960 960\">\n",
              "    <path d=\"M120-120v-720h720v720H120Zm60-500h600v-160H180v160Zm220 220h160v-160H400v160Zm0 220h160v-160H400v160ZM180-400h160v-160H180v160Zm440 0h160v-160H620v160ZM180-180h160v-160H180v160Zm440 0h160v-160H620v160Z\"/>\n",
              "  </svg>\n",
              "    </button>\n",
              "\n",
              "  <style>\n",
              "    .colab-df-container {\n",
              "      display:flex;\n",
              "      gap: 12px;\n",
              "    }\n",
              "\n",
              "    .colab-df-convert {\n",
              "      background-color: #E8F0FE;\n",
              "      border: none;\n",
              "      border-radius: 50%;\n",
              "      cursor: pointer;\n",
              "      display: none;\n",
              "      fill: #1967D2;\n",
              "      height: 32px;\n",
              "      padding: 0 0 0 0;\n",
              "      width: 32px;\n",
              "    }\n",
              "\n",
              "    .colab-df-convert:hover {\n",
              "      background-color: #E2EBFA;\n",
              "      box-shadow: 0px 1px 2px rgba(60, 64, 67, 0.3), 0px 1px 3px 1px rgba(60, 64, 67, 0.15);\n",
              "      fill: #174EA6;\n",
              "    }\n",
              "\n",
              "    .colab-df-buttons div {\n",
              "      margin-bottom: 4px;\n",
              "    }\n",
              "\n",
              "    [theme=dark] .colab-df-convert {\n",
              "      background-color: #3B4455;\n",
              "      fill: #D2E3FC;\n",
              "    }\n",
              "\n",
              "    [theme=dark] .colab-df-convert:hover {\n",
              "      background-color: #434B5C;\n",
              "      box-shadow: 0px 1px 3px 1px rgba(0, 0, 0, 0.15);\n",
              "      filter: drop-shadow(0px 1px 2px rgba(0, 0, 0, 0.3));\n",
              "      fill: #FFFFFF;\n",
              "    }\n",
              "  </style>\n",
              "\n",
              "    <script>\n",
              "      const buttonEl =\n",
              "        document.querySelector('#df-b8490615-b33f-4958-9b00-175d20e4530e button.colab-df-convert');\n",
              "      buttonEl.style.display =\n",
              "        google.colab.kernel.accessAllowed ? 'block' : 'none';\n",
              "\n",
              "      async function convertToInteractive(key) {\n",
              "        const element = document.querySelector('#df-b8490615-b33f-4958-9b00-175d20e4530e');\n",
              "        const dataTable =\n",
              "          await google.colab.kernel.invokeFunction('convertToInteractive',\n",
              "                                                    [key], {});\n",
              "        if (!dataTable) return;\n",
              "\n",
              "        const docLinkHtml = 'Like what you see? Visit the ' +\n",
              "          '<a target=\"_blank\" href=https://colab.research.google.com/notebooks/data_table.ipynb>data table notebook</a>'\n",
              "          + ' to learn more about interactive tables.';\n",
              "        element.innerHTML = '';\n",
              "        dataTable['output_type'] = 'display_data';\n",
              "        await google.colab.output.renderOutput(dataTable, element);\n",
              "        const docLink = document.createElement('div');\n",
              "        docLink.innerHTML = docLinkHtml;\n",
              "        element.appendChild(docLink);\n",
              "      }\n",
              "    </script>\n",
              "  </div>\n",
              "\n",
              "\n",
              "<div id=\"df-f8b2d9cb-28ac-49b2-bb0b-9bf39d078a5a\">\n",
              "  <button class=\"colab-df-quickchart\" onclick=\"quickchart('df-f8b2d9cb-28ac-49b2-bb0b-9bf39d078a5a')\"\n",
              "            title=\"Suggest charts\"\n",
              "            style=\"display:none;\">\n",
              "\n",
              "<svg xmlns=\"http://www.w3.org/2000/svg\" height=\"24px\"viewBox=\"0 0 24 24\"\n",
              "     width=\"24px\">\n",
              "    <g>\n",
              "        <path d=\"M19 3H5c-1.1 0-2 .9-2 2v14c0 1.1.9 2 2 2h14c1.1 0 2-.9 2-2V5c0-1.1-.9-2-2-2zM9 17H7v-7h2v7zm4 0h-2V7h2v10zm4 0h-2v-4h2v4z\"/>\n",
              "    </g>\n",
              "</svg>\n",
              "  </button>\n",
              "\n",
              "<style>\n",
              "  .colab-df-quickchart {\n",
              "      --bg-color: #E8F0FE;\n",
              "      --fill-color: #1967D2;\n",
              "      --hover-bg-color: #E2EBFA;\n",
              "      --hover-fill-color: #174EA6;\n",
              "      --disabled-fill-color: #AAA;\n",
              "      --disabled-bg-color: #DDD;\n",
              "  }\n",
              "\n",
              "  [theme=dark] .colab-df-quickchart {\n",
              "      --bg-color: #3B4455;\n",
              "      --fill-color: #D2E3FC;\n",
              "      --hover-bg-color: #434B5C;\n",
              "      --hover-fill-color: #FFFFFF;\n",
              "      --disabled-bg-color: #3B4455;\n",
              "      --disabled-fill-color: #666;\n",
              "  }\n",
              "\n",
              "  .colab-df-quickchart {\n",
              "    background-color: var(--bg-color);\n",
              "    border: none;\n",
              "    border-radius: 50%;\n",
              "    cursor: pointer;\n",
              "    display: none;\n",
              "    fill: var(--fill-color);\n",
              "    height: 32px;\n",
              "    padding: 0;\n",
              "    width: 32px;\n",
              "  }\n",
              "\n",
              "  .colab-df-quickchart:hover {\n",
              "    background-color: var(--hover-bg-color);\n",
              "    box-shadow: 0 1px 2px rgba(60, 64, 67, 0.3), 0 1px 3px 1px rgba(60, 64, 67, 0.15);\n",
              "    fill: var(--button-hover-fill-color);\n",
              "  }\n",
              "\n",
              "  .colab-df-quickchart-complete:disabled,\n",
              "  .colab-df-quickchart-complete:disabled:hover {\n",
              "    background-color: var(--disabled-bg-color);\n",
              "    fill: var(--disabled-fill-color);\n",
              "    box-shadow: none;\n",
              "  }\n",
              "\n",
              "  .colab-df-spinner {\n",
              "    border: 2px solid var(--fill-color);\n",
              "    border-color: transparent;\n",
              "    border-bottom-color: var(--fill-color);\n",
              "    animation:\n",
              "      spin 1s steps(1) infinite;\n",
              "  }\n",
              "\n",
              "  @keyframes spin {\n",
              "    0% {\n",
              "      border-color: transparent;\n",
              "      border-bottom-color: var(--fill-color);\n",
              "      border-left-color: var(--fill-color);\n",
              "    }\n",
              "    20% {\n",
              "      border-color: transparent;\n",
              "      border-left-color: var(--fill-color);\n",
              "      border-top-color: var(--fill-color);\n",
              "    }\n",
              "    30% {\n",
              "      border-color: transparent;\n",
              "      border-left-color: var(--fill-color);\n",
              "      border-top-color: var(--fill-color);\n",
              "      border-right-color: var(--fill-color);\n",
              "    }\n",
              "    40% {\n",
              "      border-color: transparent;\n",
              "      border-right-color: var(--fill-color);\n",
              "      border-top-color: var(--fill-color);\n",
              "    }\n",
              "    60% {\n",
              "      border-color: transparent;\n",
              "      border-right-color: var(--fill-color);\n",
              "    }\n",
              "    80% {\n",
              "      border-color: transparent;\n",
              "      border-right-color: var(--fill-color);\n",
              "      border-bottom-color: var(--fill-color);\n",
              "    }\n",
              "    90% {\n",
              "      border-color: transparent;\n",
              "      border-bottom-color: var(--fill-color);\n",
              "    }\n",
              "  }\n",
              "</style>\n",
              "\n",
              "  <script>\n",
              "    async function quickchart(key) {\n",
              "      const quickchartButtonEl =\n",
              "        document.querySelector('#' + key + ' button');\n",
              "      quickchartButtonEl.disabled = true;  // To prevent multiple clicks.\n",
              "      quickchartButtonEl.classList.add('colab-df-spinner');\n",
              "      try {\n",
              "        const charts = await google.colab.kernel.invokeFunction(\n",
              "            'suggestCharts', [key], {});\n",
              "      } catch (error) {\n",
              "        console.error('Error during call to suggestCharts:', error);\n",
              "      }\n",
              "      quickchartButtonEl.classList.remove('colab-df-spinner');\n",
              "      quickchartButtonEl.classList.add('colab-df-quickchart-complete');\n",
              "    }\n",
              "    (() => {\n",
              "      let quickchartButtonEl =\n",
              "        document.querySelector('#df-f8b2d9cb-28ac-49b2-bb0b-9bf39d078a5a button');\n",
              "      quickchartButtonEl.style.display =\n",
              "        google.colab.kernel.accessAllowed ? 'block' : 'none';\n",
              "    })();\n",
              "  </script>\n",
              "</div>\n",
              "\n",
              "    </div>\n",
              "  </div>\n"
            ],
            "application/vnd.google.colaboratory.intrinsic+json": {
              "type": "dataframe",
              "variable_name": "dataframe",
              "summary": "{\n  \"name\": \"dataframe\",\n  \"rows\": 736,\n  \"fields\": [\n    {\n      \"column\": \"Unnamed: 0\",\n      \"properties\": {\n        \"dtype\": \"number\",\n        \"std\": 212,\n        \"min\": 0,\n        \"max\": 735,\n        \"num_unique_values\": 736,\n        \"samples\": [\n          669,\n          33,\n          549\n        ],\n        \"semantic_type\": \"\",\n        \"description\": \"\"\n      }\n    },\n    {\n      \"column\": \"State\",\n      \"properties\": {\n        \"dtype\": \"category\",\n        \"num_unique_values\": 70,\n        \"samples\": [\n          \"SIKKIM\",\n          \"ANDHRA PRADESH\",\n          \"Manipur\"\n        ],\n        \"semantic_type\": \"\",\n        \"description\": \"\"\n      }\n    },\n    {\n      \"column\": \"Year\",\n      \"properties\": {\n        \"dtype\": \"number\",\n        \"std\": 6,\n        \"min\": 2001,\n        \"max\": 2021,\n        \"num_unique_values\": 21,\n        \"samples\": [\n          2001,\n          2018,\n          2016\n        ],\n        \"semantic_type\": \"\",\n        \"description\": \"\"\n      }\n    },\n    {\n      \"column\": \"Rape\",\n      \"properties\": {\n        \"dtype\": \"number\",\n        \"std\": 977,\n        \"min\": 0,\n        \"max\": 6337,\n        \"num_unique_values\": 498,\n        \"samples\": [\n          2496,\n          1268,\n          720\n        ],\n        \"semantic_type\": \"\",\n        \"description\": \"\"\n      }\n    },\n    {\n      \"column\": \"K&A\",\n      \"properties\": {\n        \"dtype\": \"number\",\n        \"std\": 1993,\n        \"min\": 0,\n        \"max\": 15381,\n        \"num_unique_values\": 491,\n        \"samples\": [\n          281,\n          997,\n          1056\n        ],\n        \"semantic_type\": \"\",\n        \"description\": \"\"\n      }\n    },\n    {\n      \"column\": \"DD\",\n      \"properties\": {\n        \"dtype\": \"number\",\n        \"std\": 424,\n        \"min\": 0,\n        \"max\": 2524,\n        \"num_unique_values\": 319,\n        \"samples\": [\n          751,\n          395,\n          449\n        ],\n        \"semantic_type\": \"\",\n        \"description\": \"\"\n      }\n    },\n    {\n      \"column\": \"AoW\",\n      \"properties\": {\n        \"dtype\": \"number\",\n        \"std\": 2463,\n        \"min\": 0,\n        \"max\": 14853,\n        \"num_unique_values\": 505,\n        \"samples\": [\n          853,\n          2978,\n          5105\n        ],\n        \"semantic_type\": \"\",\n        \"description\": \"\"\n      }\n    },\n    {\n      \"column\": \"AoM\",\n      \"properties\": {\n        \"dtype\": \"number\",\n        \"std\": 806,\n        \"min\": 0,\n        \"max\": 9422,\n        \"num_unique_values\": 322,\n        \"samples\": [\n          93,\n          605,\n          180\n        ],\n        \"semantic_type\": \"\",\n        \"description\": \"\"\n      }\n    },\n    {\n      \"column\": \"DV\",\n      \"properties\": {\n        \"dtype\": \"number\",\n        \"std\": 4042,\n        \"min\": 0,\n        \"max\": 23278,\n        \"num_unique_values\": 488,\n        \"samples\": [\n          1,\n          239,\n          18432\n        ],\n        \"semantic_type\": \"\",\n        \"description\": \"\"\n      }\n    },\n    {\n      \"column\": \"WT\",\n      \"properties\": {\n        \"dtype\": \"number\",\n        \"std\": 79,\n        \"min\": 0,\n        \"max\": 549,\n        \"num_unique_values\": 124,\n        \"samples\": [\n          22,\n          40,\n          420\n        ],\n        \"semantic_type\": \"\",\n        \"description\": \"\"\n      }\n    }\n  ]\n}"
            }
          },
          "metadata": {},
          "execution_count": 15
        }
      ]
    },
    {
      "cell_type": "code",
      "source": [
        "dataframe.describe()"
      ],
      "metadata": {
        "colab": {
          "base_uri": "https://localhost:8080/",
          "height": 300
        },
        "id": "83X3PTkZOrKC",
        "outputId": "e2355b28-f7d7-42b9-a835-ceec36a62218"
      },
      "execution_count": null,
      "outputs": [
        {
          "output_type": "execute_result",
          "data": {
            "text/plain": [
              "       Unnamed: 0         Year         Rape           K&A           DD  \\\n",
              "count  736.000000   736.000000   736.000000    736.000000   736.000000   \n",
              "mean   367.500000  2011.149457   727.855978   1134.542120   215.692935   \n",
              "std    212.609188     6.053453   977.024945   1993.536828   424.927334   \n",
              "min      0.000000  2001.000000     0.000000      0.000000     0.000000   \n",
              "25%    183.750000  2006.000000    35.000000     24.750000     1.000000   \n",
              "50%    367.500000  2011.000000   348.500000    290.000000    29.000000   \n",
              "75%    551.250000  2016.000000  1069.000000   1216.000000   259.000000   \n",
              "max    735.000000  2021.000000  6337.000000  15381.000000  2524.000000   \n",
              "\n",
              "                AoW          AoM            DV          WT  \n",
              "count    736.000000   736.000000    736.000000  736.000000  \n",
              "mean    1579.115489   332.722826   2595.078804   28.744565  \n",
              "std     2463.962518   806.024551   4042.004953   79.999660  \n",
              "min        0.000000     0.000000      0.000000    0.000000  \n",
              "25%       34.000000     3.000000     13.000000    0.000000  \n",
              "50%      387.500000    31.000000    678.500000    0.000000  \n",
              "75%     2122.250000   277.500000   3545.000000   15.000000  \n",
              "max    14853.000000  9422.000000  23278.000000  549.000000  "
            ],
            "text/html": [
              "\n",
              "  <div id=\"df-4c0c1168-13e5-4ff4-b9d9-d590416f1283\" class=\"colab-df-container\">\n",
              "    <div>\n",
              "<style scoped>\n",
              "    .dataframe tbody tr th:only-of-type {\n",
              "        vertical-align: middle;\n",
              "    }\n",
              "\n",
              "    .dataframe tbody tr th {\n",
              "        vertical-align: top;\n",
              "    }\n",
              "\n",
              "    .dataframe thead th {\n",
              "        text-align: right;\n",
              "    }\n",
              "</style>\n",
              "<table border=\"1\" class=\"dataframe\">\n",
              "  <thead>\n",
              "    <tr style=\"text-align: right;\">\n",
              "      <th></th>\n",
              "      <th>Unnamed: 0</th>\n",
              "      <th>Year</th>\n",
              "      <th>Rape</th>\n",
              "      <th>K&amp;A</th>\n",
              "      <th>DD</th>\n",
              "      <th>AoW</th>\n",
              "      <th>AoM</th>\n",
              "      <th>DV</th>\n",
              "      <th>WT</th>\n",
              "    </tr>\n",
              "  </thead>\n",
              "  <tbody>\n",
              "    <tr>\n",
              "      <th>count</th>\n",
              "      <td>736.000000</td>\n",
              "      <td>736.000000</td>\n",
              "      <td>736.000000</td>\n",
              "      <td>736.000000</td>\n",
              "      <td>736.000000</td>\n",
              "      <td>736.000000</td>\n",
              "      <td>736.000000</td>\n",
              "      <td>736.000000</td>\n",
              "      <td>736.000000</td>\n",
              "    </tr>\n",
              "    <tr>\n",
              "      <th>mean</th>\n",
              "      <td>367.500000</td>\n",
              "      <td>2011.149457</td>\n",
              "      <td>727.855978</td>\n",
              "      <td>1134.542120</td>\n",
              "      <td>215.692935</td>\n",
              "      <td>1579.115489</td>\n",
              "      <td>332.722826</td>\n",
              "      <td>2595.078804</td>\n",
              "      <td>28.744565</td>\n",
              "    </tr>\n",
              "    <tr>\n",
              "      <th>std</th>\n",
              "      <td>212.609188</td>\n",
              "      <td>6.053453</td>\n",
              "      <td>977.024945</td>\n",
              "      <td>1993.536828</td>\n",
              "      <td>424.927334</td>\n",
              "      <td>2463.962518</td>\n",
              "      <td>806.024551</td>\n",
              "      <td>4042.004953</td>\n",
              "      <td>79.999660</td>\n",
              "    </tr>\n",
              "    <tr>\n",
              "      <th>min</th>\n",
              "      <td>0.000000</td>\n",
              "      <td>2001.000000</td>\n",
              "      <td>0.000000</td>\n",
              "      <td>0.000000</td>\n",
              "      <td>0.000000</td>\n",
              "      <td>0.000000</td>\n",
              "      <td>0.000000</td>\n",
              "      <td>0.000000</td>\n",
              "      <td>0.000000</td>\n",
              "    </tr>\n",
              "    <tr>\n",
              "      <th>25%</th>\n",
              "      <td>183.750000</td>\n",
              "      <td>2006.000000</td>\n",
              "      <td>35.000000</td>\n",
              "      <td>24.750000</td>\n",
              "      <td>1.000000</td>\n",
              "      <td>34.000000</td>\n",
              "      <td>3.000000</td>\n",
              "      <td>13.000000</td>\n",
              "      <td>0.000000</td>\n",
              "    </tr>\n",
              "    <tr>\n",
              "      <th>50%</th>\n",
              "      <td>367.500000</td>\n",
              "      <td>2011.000000</td>\n",
              "      <td>348.500000</td>\n",
              "      <td>290.000000</td>\n",
              "      <td>29.000000</td>\n",
              "      <td>387.500000</td>\n",
              "      <td>31.000000</td>\n",
              "      <td>678.500000</td>\n",
              "      <td>0.000000</td>\n",
              "    </tr>\n",
              "    <tr>\n",
              "      <th>75%</th>\n",
              "      <td>551.250000</td>\n",
              "      <td>2016.000000</td>\n",
              "      <td>1069.000000</td>\n",
              "      <td>1216.000000</td>\n",
              "      <td>259.000000</td>\n",
              "      <td>2122.250000</td>\n",
              "      <td>277.500000</td>\n",
              "      <td>3545.000000</td>\n",
              "      <td>15.000000</td>\n",
              "    </tr>\n",
              "    <tr>\n",
              "      <th>max</th>\n",
              "      <td>735.000000</td>\n",
              "      <td>2021.000000</td>\n",
              "      <td>6337.000000</td>\n",
              "      <td>15381.000000</td>\n",
              "      <td>2524.000000</td>\n",
              "      <td>14853.000000</td>\n",
              "      <td>9422.000000</td>\n",
              "      <td>23278.000000</td>\n",
              "      <td>549.000000</td>\n",
              "    </tr>\n",
              "  </tbody>\n",
              "</table>\n",
              "</div>\n",
              "    <div class=\"colab-df-buttons\">\n",
              "\n",
              "  <div class=\"colab-df-container\">\n",
              "    <button class=\"colab-df-convert\" onclick=\"convertToInteractive('df-4c0c1168-13e5-4ff4-b9d9-d590416f1283')\"\n",
              "            title=\"Convert this dataframe to an interactive table.\"\n",
              "            style=\"display:none;\">\n",
              "\n",
              "  <svg xmlns=\"http://www.w3.org/2000/svg\" height=\"24px\" viewBox=\"0 -960 960 960\">\n",
              "    <path d=\"M120-120v-720h720v720H120Zm60-500h600v-160H180v160Zm220 220h160v-160H400v160Zm0 220h160v-160H400v160ZM180-400h160v-160H180v160Zm440 0h160v-160H620v160ZM180-180h160v-160H180v160Zm440 0h160v-160H620v160Z\"/>\n",
              "  </svg>\n",
              "    </button>\n",
              "\n",
              "  <style>\n",
              "    .colab-df-container {\n",
              "      display:flex;\n",
              "      gap: 12px;\n",
              "    }\n",
              "\n",
              "    .colab-df-convert {\n",
              "      background-color: #E8F0FE;\n",
              "      border: none;\n",
              "      border-radius: 50%;\n",
              "      cursor: pointer;\n",
              "      display: none;\n",
              "      fill: #1967D2;\n",
              "      height: 32px;\n",
              "      padding: 0 0 0 0;\n",
              "      width: 32px;\n",
              "    }\n",
              "\n",
              "    .colab-df-convert:hover {\n",
              "      background-color: #E2EBFA;\n",
              "      box-shadow: 0px 1px 2px rgba(60, 64, 67, 0.3), 0px 1px 3px 1px rgba(60, 64, 67, 0.15);\n",
              "      fill: #174EA6;\n",
              "    }\n",
              "\n",
              "    .colab-df-buttons div {\n",
              "      margin-bottom: 4px;\n",
              "    }\n",
              "\n",
              "    [theme=dark] .colab-df-convert {\n",
              "      background-color: #3B4455;\n",
              "      fill: #D2E3FC;\n",
              "    }\n",
              "\n",
              "    [theme=dark] .colab-df-convert:hover {\n",
              "      background-color: #434B5C;\n",
              "      box-shadow: 0px 1px 3px 1px rgba(0, 0, 0, 0.15);\n",
              "      filter: drop-shadow(0px 1px 2px rgba(0, 0, 0, 0.3));\n",
              "      fill: #FFFFFF;\n",
              "    }\n",
              "  </style>\n",
              "\n",
              "    <script>\n",
              "      const buttonEl =\n",
              "        document.querySelector('#df-4c0c1168-13e5-4ff4-b9d9-d590416f1283 button.colab-df-convert');\n",
              "      buttonEl.style.display =\n",
              "        google.colab.kernel.accessAllowed ? 'block' : 'none';\n",
              "\n",
              "      async function convertToInteractive(key) {\n",
              "        const element = document.querySelector('#df-4c0c1168-13e5-4ff4-b9d9-d590416f1283');\n",
              "        const dataTable =\n",
              "          await google.colab.kernel.invokeFunction('convertToInteractive',\n",
              "                                                    [key], {});\n",
              "        if (!dataTable) return;\n",
              "\n",
              "        const docLinkHtml = 'Like what you see? Visit the ' +\n",
              "          '<a target=\"_blank\" href=https://colab.research.google.com/notebooks/data_table.ipynb>data table notebook</a>'\n",
              "          + ' to learn more about interactive tables.';\n",
              "        element.innerHTML = '';\n",
              "        dataTable['output_type'] = 'display_data';\n",
              "        await google.colab.output.renderOutput(dataTable, element);\n",
              "        const docLink = document.createElement('div');\n",
              "        docLink.innerHTML = docLinkHtml;\n",
              "        element.appendChild(docLink);\n",
              "      }\n",
              "    </script>\n",
              "  </div>\n",
              "\n",
              "\n",
              "<div id=\"df-55dbaebc-3856-420d-8232-b55fff586d70\">\n",
              "  <button class=\"colab-df-quickchart\" onclick=\"quickchart('df-55dbaebc-3856-420d-8232-b55fff586d70')\"\n",
              "            title=\"Suggest charts\"\n",
              "            style=\"display:none;\">\n",
              "\n",
              "<svg xmlns=\"http://www.w3.org/2000/svg\" height=\"24px\"viewBox=\"0 0 24 24\"\n",
              "     width=\"24px\">\n",
              "    <g>\n",
              "        <path d=\"M19 3H5c-1.1 0-2 .9-2 2v14c0 1.1.9 2 2 2h14c1.1 0 2-.9 2-2V5c0-1.1-.9-2-2-2zM9 17H7v-7h2v7zm4 0h-2V7h2v10zm4 0h-2v-4h2v4z\"/>\n",
              "    </g>\n",
              "</svg>\n",
              "  </button>\n",
              "\n",
              "<style>\n",
              "  .colab-df-quickchart {\n",
              "      --bg-color: #E8F0FE;\n",
              "      --fill-color: #1967D2;\n",
              "      --hover-bg-color: #E2EBFA;\n",
              "      --hover-fill-color: #174EA6;\n",
              "      --disabled-fill-color: #AAA;\n",
              "      --disabled-bg-color: #DDD;\n",
              "  }\n",
              "\n",
              "  [theme=dark] .colab-df-quickchart {\n",
              "      --bg-color: #3B4455;\n",
              "      --fill-color: #D2E3FC;\n",
              "      --hover-bg-color: #434B5C;\n",
              "      --hover-fill-color: #FFFFFF;\n",
              "      --disabled-bg-color: #3B4455;\n",
              "      --disabled-fill-color: #666;\n",
              "  }\n",
              "\n",
              "  .colab-df-quickchart {\n",
              "    background-color: var(--bg-color);\n",
              "    border: none;\n",
              "    border-radius: 50%;\n",
              "    cursor: pointer;\n",
              "    display: none;\n",
              "    fill: var(--fill-color);\n",
              "    height: 32px;\n",
              "    padding: 0;\n",
              "    width: 32px;\n",
              "  }\n",
              "\n",
              "  .colab-df-quickchart:hover {\n",
              "    background-color: var(--hover-bg-color);\n",
              "    box-shadow: 0 1px 2px rgba(60, 64, 67, 0.3), 0 1px 3px 1px rgba(60, 64, 67, 0.15);\n",
              "    fill: var(--button-hover-fill-color);\n",
              "  }\n",
              "\n",
              "  .colab-df-quickchart-complete:disabled,\n",
              "  .colab-df-quickchart-complete:disabled:hover {\n",
              "    background-color: var(--disabled-bg-color);\n",
              "    fill: var(--disabled-fill-color);\n",
              "    box-shadow: none;\n",
              "  }\n",
              "\n",
              "  .colab-df-spinner {\n",
              "    border: 2px solid var(--fill-color);\n",
              "    border-color: transparent;\n",
              "    border-bottom-color: var(--fill-color);\n",
              "    animation:\n",
              "      spin 1s steps(1) infinite;\n",
              "  }\n",
              "\n",
              "  @keyframes spin {\n",
              "    0% {\n",
              "      border-color: transparent;\n",
              "      border-bottom-color: var(--fill-color);\n",
              "      border-left-color: var(--fill-color);\n",
              "    }\n",
              "    20% {\n",
              "      border-color: transparent;\n",
              "      border-left-color: var(--fill-color);\n",
              "      border-top-color: var(--fill-color);\n",
              "    }\n",
              "    30% {\n",
              "      border-color: transparent;\n",
              "      border-left-color: var(--fill-color);\n",
              "      border-top-color: var(--fill-color);\n",
              "      border-right-color: var(--fill-color);\n",
              "    }\n",
              "    40% {\n",
              "      border-color: transparent;\n",
              "      border-right-color: var(--fill-color);\n",
              "      border-top-color: var(--fill-color);\n",
              "    }\n",
              "    60% {\n",
              "      border-color: transparent;\n",
              "      border-right-color: var(--fill-color);\n",
              "    }\n",
              "    80% {\n",
              "      border-color: transparent;\n",
              "      border-right-color: var(--fill-color);\n",
              "      border-bottom-color: var(--fill-color);\n",
              "    }\n",
              "    90% {\n",
              "      border-color: transparent;\n",
              "      border-bottom-color: var(--fill-color);\n",
              "    }\n",
              "  }\n",
              "</style>\n",
              "\n",
              "  <script>\n",
              "    async function quickchart(key) {\n",
              "      const quickchartButtonEl =\n",
              "        document.querySelector('#' + key + ' button');\n",
              "      quickchartButtonEl.disabled = true;  // To prevent multiple clicks.\n",
              "      quickchartButtonEl.classList.add('colab-df-spinner');\n",
              "      try {\n",
              "        const charts = await google.colab.kernel.invokeFunction(\n",
              "            'suggestCharts', [key], {});\n",
              "      } catch (error) {\n",
              "        console.error('Error during call to suggestCharts:', error);\n",
              "      }\n",
              "      quickchartButtonEl.classList.remove('colab-df-spinner');\n",
              "      quickchartButtonEl.classList.add('colab-df-quickchart-complete');\n",
              "    }\n",
              "    (() => {\n",
              "      let quickchartButtonEl =\n",
              "        document.querySelector('#df-55dbaebc-3856-420d-8232-b55fff586d70 button');\n",
              "      quickchartButtonEl.style.display =\n",
              "        google.colab.kernel.accessAllowed ? 'block' : 'none';\n",
              "    })();\n",
              "  </script>\n",
              "</div>\n",
              "\n",
              "    </div>\n",
              "  </div>\n"
            ],
            "application/vnd.google.colaboratory.intrinsic+json": {
              "type": "dataframe",
              "summary": "{\n  \"name\": \"dataframe\",\n  \"rows\": 8,\n  \"fields\": [\n    {\n      \"column\": \"Unnamed: 0\",\n      \"properties\": {\n        \"dtype\": \"number\",\n        \"std\": 265.0391960567761,\n        \"min\": 0.0,\n        \"max\": 736.0,\n        \"num_unique_values\": 7,\n        \"samples\": [\n          736.0,\n          367.5,\n          551.25\n        ],\n        \"semantic_type\": \"\",\n        \"description\": \"\"\n      }\n    },\n    {\n      \"column\": \"Year\",\n      \"properties\": {\n        \"dtype\": \"number\",\n        \"std\": 783.8596865873179,\n        \"min\": 6.053453479127217,\n        \"max\": 2021.0,\n        \"num_unique_values\": 8,\n        \"samples\": [\n          2011.1494565217392,\n          2011.0,\n          736.0\n        ],\n        \"semantic_type\": \"\",\n        \"description\": \"\"\n      }\n    },\n    {\n      \"column\": \"Rape\",\n      \"properties\": {\n        \"dtype\": \"number\",\n        \"std\": 2082.802664991433,\n        \"min\": 0.0,\n        \"max\": 6337.0,\n        \"num_unique_values\": 8,\n        \"samples\": [\n          727.8559782608696,\n          348.5,\n          736.0\n        ],\n        \"semantic_type\": \"\",\n        \"description\": \"\"\n      }\n    },\n    {\n      \"column\": \"K&A\",\n      \"properties\": {\n        \"dtype\": \"number\",\n        \"std\": 5209.705460704319,\n        \"min\": 0.0,\n        \"max\": 15381.0,\n        \"num_unique_values\": 8,\n        \"samples\": [\n          1134.5421195652175,\n          290.0,\n          736.0\n        ],\n        \"semantic_type\": \"\",\n        \"description\": \"\"\n      }\n    },\n    {\n      \"column\": \"DD\",\n      \"properties\": {\n        \"dtype\": \"number\",\n        \"std\": 846.2663319194389,\n        \"min\": 0.0,\n        \"max\": 2524.0,\n        \"num_unique_values\": 8,\n        \"samples\": [\n          215.6929347826087,\n          29.0,\n          736.0\n        ],\n        \"semantic_type\": \"\",\n        \"description\": \"\"\n      }\n    },\n    {\n      \"column\": \"AoW\",\n      \"properties\": {\n        \"dtype\": \"number\",\n        \"std\": 4969.943386501781,\n        \"min\": 0.0,\n        \"max\": 14853.0,\n        \"num_unique_values\": 8,\n        \"samples\": [\n          1579.1154891304348,\n          387.5,\n          736.0\n        ],\n        \"semantic_type\": \"\",\n        \"description\": \"\"\n      }\n    },\n    {\n      \"column\": \"AoM\",\n      \"properties\": {\n        \"dtype\": \"number\",\n        \"std\": 3236.184049359819,\n        \"min\": 0.0,\n        \"max\": 9422.0,\n        \"num_unique_values\": 8,\n        \"samples\": [\n          332.7228260869565,\n          31.0,\n          736.0\n        ],\n        \"semantic_type\": \"\",\n        \"description\": \"\"\n      }\n    },\n    {\n      \"column\": \"DV\",\n      \"properties\": {\n        \"dtype\": \"number\",\n        \"std\": 7804.429481641408,\n        \"min\": 0.0,\n        \"max\": 23278.0,\n        \"num_unique_values\": 8,\n        \"samples\": [\n          2595.078804347826,\n          678.5,\n          736.0\n        ],\n        \"semantic_type\": \"\",\n        \"description\": \"\"\n      }\n    },\n    {\n      \"column\": \"WT\",\n      \"properties\": {\n        \"dtype\": \"number\",\n        \"std\": 293.3740078030694,\n        \"min\": 0.0,\n        \"max\": 736.0,\n        \"num_unique_values\": 6,\n        \"samples\": [\n          736.0,\n          28.744565217391305,\n          549.0\n        ],\n        \"semantic_type\": \"\",\n        \"description\": \"\"\n      }\n    }\n  ]\n}"
            }
          },
          "metadata": {},
          "execution_count": 16
        }
      ]
    },
    {
      "cell_type": "markdown",
      "source": [
        "Task: 1\n",
        "  1. Create a Python script that accepts a user's first and last name as input.\n",
        "  2. Combine the names and print a welcome message, e.g., \"Welcome, John Doe!\"\n"
      ],
      "metadata": {
        "id": "hQP2I5cgTupI"
      }
    },
    {
      "cell_type": "code",
      "source": [
        "f_name = input(\"First Name:\")\n",
        "l_name = input(\"Last Name:\")\n",
        "\n",
        "print(f\"Welcome {' '.join([f_name,l_name])}!\")"
      ],
      "metadata": {
        "colab": {
          "base_uri": "https://localhost:8080/"
        },
        "id": "mFAxQ_lqQTt5",
        "outputId": "a3c188d8-8a03-48ed-c00a-c842d76954a3"
      },
      "execution_count": null,
      "outputs": [
        {
          "output_type": "stream",
          "name": "stdout",
          "text": [
            "First Name:Maryam\n",
            "Last Name:Arshad\n",
            "Welcome Maryam Arshad!\n"
          ]
        }
      ]
    },
    {
      "cell_type": "markdown",
      "source": [
        "3. Create a list of five cities and use a loop to print each city in uppercase letters.\n"
      ],
      "metadata": {
        "id": "leX_vSTAT8Ff"
      }
    },
    {
      "cell_type": "code",
      "source": [
        "cities_list = ['manchester','karachi','islamabad','taxila','texas']\n",
        "print([city.upper() for city in cities_list])"
      ],
      "metadata": {
        "colab": {
          "base_uri": "https://localhost:8080/"
        },
        "id": "XEM8XYogRU5w",
        "outputId": "02e5b569-4350-44ca-9357-c936c8db6423"
      },
      "execution_count": null,
      "outputs": [
        {
          "output_type": "stream",
          "name": "stdout",
          "text": [
            "['MANCHESTER', 'KARACHI', 'ISLAMABAD', 'TAXILA', 'TEXAS']\n"
          ]
        }
      ]
    },
    {
      "cell_type": "markdown",
      "source": [
        "Task: 2\n",
        "  1. Write a Python function that accepts a list of numbers and returns the maximum number."
      ],
      "metadata": {
        "id": "jom4G2-1T-lS"
      }
    },
    {
      "cell_type": "code",
      "source": [
        "def max_finder(nums):\n",
        "  nums_list = np.array(nums)\n",
        "  return nums_list.max()\n",
        "\n",
        "nums = [1,45435,567,87967,3]\n",
        "print(max_finder(nums))"
      ],
      "metadata": {
        "colab": {
          "base_uri": "https://localhost:8080/"
        },
        "id": "vtB1Y3Q2TnvN",
        "outputId": "23cd46df-299a-435b-9dbe-10eb063df404"
      },
      "execution_count": null,
      "outputs": [
        {
          "output_type": "stream",
          "name": "stdout",
          "text": [
            "87967\n"
          ]
        }
      ]
    },
    {
      "cell_type": "markdown",
      "source": [
        "  2. Write another function that checks if a number is prime.\n"
      ],
      "metadata": {
        "id": "TQ9HiTcMbhZn"
      }
    },
    {
      "cell_type": "code",
      "source": [
        "def is_prime(number):\n",
        "  #checking for tables in the range starting from\n",
        "  #table of 2 till the table of square root of number\n",
        "  for i in range(2,int(np.sqrt(number))+1):\n",
        "    if number % i == 0:\n",
        "      return False\n",
        "  return True\n",
        "\n",
        "num=34\n",
        "print(is_prime(num))\n",
        " #The loop for number 2 is never executed because the loop for range\n",
        " #starting from 2 and ending at 2 will never be executed so without\n",
        " #visiting if block it returns directly True."
      ],
      "metadata": {
        "colab": {
          "base_uri": "https://localhost:8080/"
        },
        "id": "EVJeQtcmUb7S",
        "outputId": "4f1b34e3-7e23-4931-b040-9c087ebf18fa"
      },
      "execution_count": null,
      "outputs": [
        {
          "output_type": "stream",
          "name": "stdout",
          "text": [
            "False\n"
          ]
        }
      ]
    },
    {
      "cell_type": "markdown",
      "source": [
        "  3. Create a loop that calls the prime-checking function on numbers from 1 to 20 and prints whether each number is prime or not.\n"
      ],
      "metadata": {
        "id": "rF8DK3r-eF7M"
      }
    },
    {
      "cell_type": "code",
      "source": [
        "#print([is_prime(num) for num in range(1,20+1)])\n",
        "for num in range(1,20+1):\n",
        "  print(f'{num}:{is_prime(num)}')"
      ],
      "metadata": {
        "colab": {
          "base_uri": "https://localhost:8080/"
        },
        "id": "_s723kMlVEDL",
        "outputId": "d28eaf35-e0f7-4570-87e7-e7016218ed0b"
      },
      "execution_count": null,
      "outputs": [
        {
          "output_type": "stream",
          "name": "stdout",
          "text": [
            "1:True\n",
            "2:True\n",
            "3:True\n",
            "4:False\n",
            "5:True\n",
            "6:False\n",
            "7:True\n",
            "8:False\n",
            "9:False\n",
            "10:False\n",
            "11:True\n",
            "12:False\n",
            "13:True\n",
            "14:False\n",
            "15:False\n",
            "16:False\n",
            "17:True\n",
            "18:False\n",
            "19:True\n",
            "20:False\n"
          ]
        }
      ]
    },
    {
      "cell_type": "markdown",
      "source": [
        "Task: 3\n",
        "  1. Create a NumPy array of 10 random integers between 1 and 50.\n",
        " 2. Calculate the sum, mean, and standard deviation of the array.\n"
      ],
      "metadata": {
        "id": "wR_9Sp7TlYqq"
      }
    },
    {
      "cell_type": "code",
      "source": [
        "import random\n",
        "\n",
        "#only a list can be converted to array by numpy\n",
        "array = np.array([random.randint(1,50) for num in range(10)])\n",
        "print(f'Sum:{round(array.sum(),2)}')\n",
        "print(f'Mean:{round(array.mean(),2)}')\n",
        "print(f'Std Deviation:{round(array.std(),2)}')"
      ],
      "metadata": {
        "colab": {
          "base_uri": "https://localhost:8080/"
        },
        "id": "ZiNnMdf1cpZU",
        "outputId": "99737f3c-c0d7-4982-b87d-cc2efd0d4204"
      },
      "execution_count": null,
      "outputs": [
        {
          "output_type": "stream",
          "name": "stdout",
          "text": [
            "Sum:252\n",
            "Mean:25.2\n",
            "Std Deviation:16.24\n"
          ]
        }
      ]
    },
    {
      "cell_type": "code",
      "source": [
        "#sorting in descending order thats why reverse is passed as True\n",
        "#itherwise the default is reverse = False for ascending order\n",
        "print(f'Sorted array:{sorted(array,reverse=True)}')\n"
      ],
      "metadata": {
        "colab": {
          "base_uri": "https://localhost:8080/"
        },
        "id": "5as2liTTk5NE",
        "outputId": "bc3bffc4-b5c5-421b-aade-dc9b91bcff12"
      },
      "execution_count": null,
      "outputs": [
        {
          "output_type": "stream",
          "name": "stdout",
          "text": [
            "Sorted array:[49, 48, 40, 34, 25, 22, 18, 7, 6, 3]\n"
          ]
        }
      ]
    },
    {
      "cell_type": "markdown",
      "source": [
        "Task: 4\n",
        "  1. Create a Pandas DataFrame with three columns: Name, Age, and Score.\n",
        "  2. Add data for at least five students.\n"
      ],
      "metadata": {
        "id": "aoZj7sB8u_ju"
      }
    },
    {
      "cell_type": "code",
      "source": [
        "student_dict = {}\n",
        "Name = ['Azhar','Akram','Mehtab','Ghufran','Fehmeen']\n",
        "Age = [21,32,23,45,22]\n",
        "Score = [33,67,98,54,66]\n",
        "\n",
        "for i in range(len(Name)):\n",
        "  if 'Name' not in student_dict and 'Age' not in student_dict and 'Score' not in student_dict:\n",
        "    student_dict['Name'] = [Name[i]]\n",
        "    student_dict['Age'] = [Age[i]]\n",
        "    student_dict['Score'] = [Score[i]]\n",
        "  else:\n",
        "    student_dict['Name'].append(Name[i])\n",
        "    student_dict['Age'].append(Age[i])\n",
        "    student_dict['Score'].append(Score[i])\n",
        "\n",
        "\n",
        "df = pd.DataFrame(student_dict)\n",
        "df\n"
      ],
      "metadata": {
        "colab": {
          "base_uri": "https://localhost:8080/",
          "height": 206
        },
        "id": "kvmF7Wy9kzxT",
        "outputId": "d93d2760-9d87-4eb4-9d41-f4c477bd14be"
      },
      "execution_count": null,
      "outputs": [
        {
          "output_type": "execute_result",
          "data": {
            "text/plain": [
              "      Name  Age  Score\n",
              "0    Azhar   21     33\n",
              "1    Akram   32     67\n",
              "2   Mehtab   23     98\n",
              "3  Ghufran   45     54\n",
              "4  Fehmeen   22     66"
            ],
            "text/html": [
              "\n",
              "  <div id=\"df-40bee015-32d5-41a7-89eb-bf8c44a4f5c0\" class=\"colab-df-container\">\n",
              "    <div>\n",
              "<style scoped>\n",
              "    .dataframe tbody tr th:only-of-type {\n",
              "        vertical-align: middle;\n",
              "    }\n",
              "\n",
              "    .dataframe tbody tr th {\n",
              "        vertical-align: top;\n",
              "    }\n",
              "\n",
              "    .dataframe thead th {\n",
              "        text-align: right;\n",
              "    }\n",
              "</style>\n",
              "<table border=\"1\" class=\"dataframe\">\n",
              "  <thead>\n",
              "    <tr style=\"text-align: right;\">\n",
              "      <th></th>\n",
              "      <th>Name</th>\n",
              "      <th>Age</th>\n",
              "      <th>Score</th>\n",
              "    </tr>\n",
              "  </thead>\n",
              "  <tbody>\n",
              "    <tr>\n",
              "      <th>0</th>\n",
              "      <td>Azhar</td>\n",
              "      <td>21</td>\n",
              "      <td>33</td>\n",
              "    </tr>\n",
              "    <tr>\n",
              "      <th>1</th>\n",
              "      <td>Akram</td>\n",
              "      <td>32</td>\n",
              "      <td>67</td>\n",
              "    </tr>\n",
              "    <tr>\n",
              "      <th>2</th>\n",
              "      <td>Mehtab</td>\n",
              "      <td>23</td>\n",
              "      <td>98</td>\n",
              "    </tr>\n",
              "    <tr>\n",
              "      <th>3</th>\n",
              "      <td>Ghufran</td>\n",
              "      <td>45</td>\n",
              "      <td>54</td>\n",
              "    </tr>\n",
              "    <tr>\n",
              "      <th>4</th>\n",
              "      <td>Fehmeen</td>\n",
              "      <td>22</td>\n",
              "      <td>66</td>\n",
              "    </tr>\n",
              "  </tbody>\n",
              "</table>\n",
              "</div>\n",
              "    <div class=\"colab-df-buttons\">\n",
              "\n",
              "  <div class=\"colab-df-container\">\n",
              "    <button class=\"colab-df-convert\" onclick=\"convertToInteractive('df-40bee015-32d5-41a7-89eb-bf8c44a4f5c0')\"\n",
              "            title=\"Convert this dataframe to an interactive table.\"\n",
              "            style=\"display:none;\">\n",
              "\n",
              "  <svg xmlns=\"http://www.w3.org/2000/svg\" height=\"24px\" viewBox=\"0 -960 960 960\">\n",
              "    <path d=\"M120-120v-720h720v720H120Zm60-500h600v-160H180v160Zm220 220h160v-160H400v160Zm0 220h160v-160H400v160ZM180-400h160v-160H180v160Zm440 0h160v-160H620v160ZM180-180h160v-160H180v160Zm440 0h160v-160H620v160Z\"/>\n",
              "  </svg>\n",
              "    </button>\n",
              "\n",
              "  <style>\n",
              "    .colab-df-container {\n",
              "      display:flex;\n",
              "      gap: 12px;\n",
              "    }\n",
              "\n",
              "    .colab-df-convert {\n",
              "      background-color: #E8F0FE;\n",
              "      border: none;\n",
              "      border-radius: 50%;\n",
              "      cursor: pointer;\n",
              "      display: none;\n",
              "      fill: #1967D2;\n",
              "      height: 32px;\n",
              "      padding: 0 0 0 0;\n",
              "      width: 32px;\n",
              "    }\n",
              "\n",
              "    .colab-df-convert:hover {\n",
              "      background-color: #E2EBFA;\n",
              "      box-shadow: 0px 1px 2px rgba(60, 64, 67, 0.3), 0px 1px 3px 1px rgba(60, 64, 67, 0.15);\n",
              "      fill: #174EA6;\n",
              "    }\n",
              "\n",
              "    .colab-df-buttons div {\n",
              "      margin-bottom: 4px;\n",
              "    }\n",
              "\n",
              "    [theme=dark] .colab-df-convert {\n",
              "      background-color: #3B4455;\n",
              "      fill: #D2E3FC;\n",
              "    }\n",
              "\n",
              "    [theme=dark] .colab-df-convert:hover {\n",
              "      background-color: #434B5C;\n",
              "      box-shadow: 0px 1px 3px 1px rgba(0, 0, 0, 0.15);\n",
              "      filter: drop-shadow(0px 1px 2px rgba(0, 0, 0, 0.3));\n",
              "      fill: #FFFFFF;\n",
              "    }\n",
              "  </style>\n",
              "\n",
              "    <script>\n",
              "      const buttonEl =\n",
              "        document.querySelector('#df-40bee015-32d5-41a7-89eb-bf8c44a4f5c0 button.colab-df-convert');\n",
              "      buttonEl.style.display =\n",
              "        google.colab.kernel.accessAllowed ? 'block' : 'none';\n",
              "\n",
              "      async function convertToInteractive(key) {\n",
              "        const element = document.querySelector('#df-40bee015-32d5-41a7-89eb-bf8c44a4f5c0');\n",
              "        const dataTable =\n",
              "          await google.colab.kernel.invokeFunction('convertToInteractive',\n",
              "                                                    [key], {});\n",
              "        if (!dataTable) return;\n",
              "\n",
              "        const docLinkHtml = 'Like what you see? Visit the ' +\n",
              "          '<a target=\"_blank\" href=https://colab.research.google.com/notebooks/data_table.ipynb>data table notebook</a>'\n",
              "          + ' to learn more about interactive tables.';\n",
              "        element.innerHTML = '';\n",
              "        dataTable['output_type'] = 'display_data';\n",
              "        await google.colab.output.renderOutput(dataTable, element);\n",
              "        const docLink = document.createElement('div');\n",
              "        docLink.innerHTML = docLinkHtml;\n",
              "        element.appendChild(docLink);\n",
              "      }\n",
              "    </script>\n",
              "  </div>\n",
              "\n",
              "\n",
              "<div id=\"df-5c0aad92-51e1-44aa-85f7-248a0b79e5fd\">\n",
              "  <button class=\"colab-df-quickchart\" onclick=\"quickchart('df-5c0aad92-51e1-44aa-85f7-248a0b79e5fd')\"\n",
              "            title=\"Suggest charts\"\n",
              "            style=\"display:none;\">\n",
              "\n",
              "<svg xmlns=\"http://www.w3.org/2000/svg\" height=\"24px\"viewBox=\"0 0 24 24\"\n",
              "     width=\"24px\">\n",
              "    <g>\n",
              "        <path d=\"M19 3H5c-1.1 0-2 .9-2 2v14c0 1.1.9 2 2 2h14c1.1 0 2-.9 2-2V5c0-1.1-.9-2-2-2zM9 17H7v-7h2v7zm4 0h-2V7h2v10zm4 0h-2v-4h2v4z\"/>\n",
              "    </g>\n",
              "</svg>\n",
              "  </button>\n",
              "\n",
              "<style>\n",
              "  .colab-df-quickchart {\n",
              "      --bg-color: #E8F0FE;\n",
              "      --fill-color: #1967D2;\n",
              "      --hover-bg-color: #E2EBFA;\n",
              "      --hover-fill-color: #174EA6;\n",
              "      --disabled-fill-color: #AAA;\n",
              "      --disabled-bg-color: #DDD;\n",
              "  }\n",
              "\n",
              "  [theme=dark] .colab-df-quickchart {\n",
              "      --bg-color: #3B4455;\n",
              "      --fill-color: #D2E3FC;\n",
              "      --hover-bg-color: #434B5C;\n",
              "      --hover-fill-color: #FFFFFF;\n",
              "      --disabled-bg-color: #3B4455;\n",
              "      --disabled-fill-color: #666;\n",
              "  }\n",
              "\n",
              "  .colab-df-quickchart {\n",
              "    background-color: var(--bg-color);\n",
              "    border: none;\n",
              "    border-radius: 50%;\n",
              "    cursor: pointer;\n",
              "    display: none;\n",
              "    fill: var(--fill-color);\n",
              "    height: 32px;\n",
              "    padding: 0;\n",
              "    width: 32px;\n",
              "  }\n",
              "\n",
              "  .colab-df-quickchart:hover {\n",
              "    background-color: var(--hover-bg-color);\n",
              "    box-shadow: 0 1px 2px rgba(60, 64, 67, 0.3), 0 1px 3px 1px rgba(60, 64, 67, 0.15);\n",
              "    fill: var(--button-hover-fill-color);\n",
              "  }\n",
              "\n",
              "  .colab-df-quickchart-complete:disabled,\n",
              "  .colab-df-quickchart-complete:disabled:hover {\n",
              "    background-color: var(--disabled-bg-color);\n",
              "    fill: var(--disabled-fill-color);\n",
              "    box-shadow: none;\n",
              "  }\n",
              "\n",
              "  .colab-df-spinner {\n",
              "    border: 2px solid var(--fill-color);\n",
              "    border-color: transparent;\n",
              "    border-bottom-color: var(--fill-color);\n",
              "    animation:\n",
              "      spin 1s steps(1) infinite;\n",
              "  }\n",
              "\n",
              "  @keyframes spin {\n",
              "    0% {\n",
              "      border-color: transparent;\n",
              "      border-bottom-color: var(--fill-color);\n",
              "      border-left-color: var(--fill-color);\n",
              "    }\n",
              "    20% {\n",
              "      border-color: transparent;\n",
              "      border-left-color: var(--fill-color);\n",
              "      border-top-color: var(--fill-color);\n",
              "    }\n",
              "    30% {\n",
              "      border-color: transparent;\n",
              "      border-left-color: var(--fill-color);\n",
              "      border-top-color: var(--fill-color);\n",
              "      border-right-color: var(--fill-color);\n",
              "    }\n",
              "    40% {\n",
              "      border-color: transparent;\n",
              "      border-right-color: var(--fill-color);\n",
              "      border-top-color: var(--fill-color);\n",
              "    }\n",
              "    60% {\n",
              "      border-color: transparent;\n",
              "      border-right-color: var(--fill-color);\n",
              "    }\n",
              "    80% {\n",
              "      border-color: transparent;\n",
              "      border-right-color: var(--fill-color);\n",
              "      border-bottom-color: var(--fill-color);\n",
              "    }\n",
              "    90% {\n",
              "      border-color: transparent;\n",
              "      border-bottom-color: var(--fill-color);\n",
              "    }\n",
              "  }\n",
              "</style>\n",
              "\n",
              "  <script>\n",
              "    async function quickchart(key) {\n",
              "      const quickchartButtonEl =\n",
              "        document.querySelector('#' + key + ' button');\n",
              "      quickchartButtonEl.disabled = true;  // To prevent multiple clicks.\n",
              "      quickchartButtonEl.classList.add('colab-df-spinner');\n",
              "      try {\n",
              "        const charts = await google.colab.kernel.invokeFunction(\n",
              "            'suggestCharts', [key], {});\n",
              "      } catch (error) {\n",
              "        console.error('Error during call to suggestCharts:', error);\n",
              "      }\n",
              "      quickchartButtonEl.classList.remove('colab-df-spinner');\n",
              "      quickchartButtonEl.classList.add('colab-df-quickchart-complete');\n",
              "    }\n",
              "    (() => {\n",
              "      let quickchartButtonEl =\n",
              "        document.querySelector('#df-5c0aad92-51e1-44aa-85f7-248a0b79e5fd button');\n",
              "      quickchartButtonEl.style.display =\n",
              "        google.colab.kernel.accessAllowed ? 'block' : 'none';\n",
              "    })();\n",
              "  </script>\n",
              "</div>\n",
              "\n",
              "  <div id=\"id_a1f0a338-0527-425a-abcc-61da9cf0eaca\">\n",
              "    <style>\n",
              "      .colab-df-generate {\n",
              "        background-color: #E8F0FE;\n",
              "        border: none;\n",
              "        border-radius: 50%;\n",
              "        cursor: pointer;\n",
              "        display: none;\n",
              "        fill: #1967D2;\n",
              "        height: 32px;\n",
              "        padding: 0 0 0 0;\n",
              "        width: 32px;\n",
              "      }\n",
              "\n",
              "      .colab-df-generate:hover {\n",
              "        background-color: #E2EBFA;\n",
              "        box-shadow: 0px 1px 2px rgba(60, 64, 67, 0.3), 0px 1px 3px 1px rgba(60, 64, 67, 0.15);\n",
              "        fill: #174EA6;\n",
              "      }\n",
              "\n",
              "      [theme=dark] .colab-df-generate {\n",
              "        background-color: #3B4455;\n",
              "        fill: #D2E3FC;\n",
              "      }\n",
              "\n",
              "      [theme=dark] .colab-df-generate:hover {\n",
              "        background-color: #434B5C;\n",
              "        box-shadow: 0px 1px 3px 1px rgba(0, 0, 0, 0.15);\n",
              "        filter: drop-shadow(0px 1px 2px rgba(0, 0, 0, 0.3));\n",
              "        fill: #FFFFFF;\n",
              "      }\n",
              "    </style>\n",
              "    <button class=\"colab-df-generate\" onclick=\"generateWithVariable('df')\"\n",
              "            title=\"Generate code using this dataframe.\"\n",
              "            style=\"display:none;\">\n",
              "\n",
              "  <svg xmlns=\"http://www.w3.org/2000/svg\" height=\"24px\"viewBox=\"0 0 24 24\"\n",
              "       width=\"24px\">\n",
              "    <path d=\"M7,19H8.4L18.45,9,17,7.55,7,17.6ZM5,21V16.75L18.45,3.32a2,2,0,0,1,2.83,0l1.4,1.43a1.91,1.91,0,0,1,.58,1.4,1.91,1.91,0,0,1-.58,1.4L9.25,21ZM18.45,9,17,7.55Zm-12,3A5.31,5.31,0,0,0,4.9,8.1,5.31,5.31,0,0,0,1,6.5,5.31,5.31,0,0,0,4.9,4.9,5.31,5.31,0,0,0,6.5,1,5.31,5.31,0,0,0,8.1,4.9,5.31,5.31,0,0,0,12,6.5,5.46,5.46,0,0,0,6.5,12Z\"/>\n",
              "  </svg>\n",
              "    </button>\n",
              "    <script>\n",
              "      (() => {\n",
              "      const buttonEl =\n",
              "        document.querySelector('#id_a1f0a338-0527-425a-abcc-61da9cf0eaca button.colab-df-generate');\n",
              "      buttonEl.style.display =\n",
              "        google.colab.kernel.accessAllowed ? 'block' : 'none';\n",
              "\n",
              "      buttonEl.onclick = () => {\n",
              "        google.colab.notebook.generateWithVariable('df');\n",
              "      }\n",
              "      })();\n",
              "    </script>\n",
              "  </div>\n",
              "\n",
              "    </div>\n",
              "  </div>\n"
            ],
            "application/vnd.google.colaboratory.intrinsic+json": {
              "type": "dataframe",
              "variable_name": "df",
              "summary": "{\n  \"name\": \"df\",\n  \"rows\": 5,\n  \"fields\": [\n    {\n      \"column\": \"Name\",\n      \"properties\": {\n        \"dtype\": \"string\",\n        \"num_unique_values\": 5,\n        \"samples\": [\n          \"Akram\",\n          \"Fehmeen\",\n          \"Mehtab\"\n        ],\n        \"semantic_type\": \"\",\n        \"description\": \"\"\n      }\n    },\n    {\n      \"column\": \"Age\",\n      \"properties\": {\n        \"dtype\": \"number\",\n        \"std\": 10,\n        \"min\": 21,\n        \"max\": 45,\n        \"num_unique_values\": 5,\n        \"samples\": [\n          32,\n          22,\n          23\n        ],\n        \"semantic_type\": \"\",\n        \"description\": \"\"\n      }\n    },\n    {\n      \"column\": \"Score\",\n      \"properties\": {\n        \"dtype\": \"number\",\n        \"std\": 23,\n        \"min\": 33,\n        \"max\": 98,\n        \"num_unique_values\": 5,\n        \"samples\": [\n          67,\n          66,\n          98\n        ],\n        \"semantic_type\": \"\",\n        \"description\": \"\"\n      }\n    }\n  ]\n}"
            }
          },
          "metadata": {},
          "execution_count": 96
        }
      ]
    },
    {
      "cell_type": "markdown",
      "source": [
        "3. Calculate the average score and filter out students who scored below 70."
      ],
      "metadata": {
        "id": "aVcFEnn2vDtI"
      }
    },
    {
      "cell_type": "code",
      "source": [
        "#calculating average score\n",
        "print(df['Score'].mean())"
      ],
      "metadata": {
        "colab": {
          "base_uri": "https://localhost:8080/"
        },
        "id": "nC7-xwwupX5a",
        "outputId": "da68d300-ddbb-42f7-b6b6-203933454947"
      },
      "execution_count": null,
      "outputs": [
        {
          "output_type": "stream",
          "name": "stdout",
          "text": [
            "63.6\n"
          ]
        }
      ]
    },
    {
      "cell_type": "code",
      "source": [
        "mask = df['Score']<70\n",
        "df['Name'][mask]"
      ],
      "metadata": {
        "colab": {
          "base_uri": "https://localhost:8080/",
          "height": 209
        },
        "id": "NWJbqNkWpxOx",
        "outputId": "9bab2d36-004d-4b9c-b502-19c9ed07cf6f"
      },
      "execution_count": null,
      "outputs": [
        {
          "output_type": "execute_result",
          "data": {
            "text/plain": [
              "0      Azhar\n",
              "1      Akram\n",
              "3    Ghufran\n",
              "4    Fehmeen\n",
              "Name: Name, dtype: object"
            ],
            "text/html": [
              "<div>\n",
              "<style scoped>\n",
              "    .dataframe tbody tr th:only-of-type {\n",
              "        vertical-align: middle;\n",
              "    }\n",
              "\n",
              "    .dataframe tbody tr th {\n",
              "        vertical-align: top;\n",
              "    }\n",
              "\n",
              "    .dataframe thead th {\n",
              "        text-align: right;\n",
              "    }\n",
              "</style>\n",
              "<table border=\"1\" class=\"dataframe\">\n",
              "  <thead>\n",
              "    <tr style=\"text-align: right;\">\n",
              "      <th></th>\n",
              "      <th>Name</th>\n",
              "    </tr>\n",
              "  </thead>\n",
              "  <tbody>\n",
              "    <tr>\n",
              "      <th>0</th>\n",
              "      <td>Azhar</td>\n",
              "    </tr>\n",
              "    <tr>\n",
              "      <th>1</th>\n",
              "      <td>Akram</td>\n",
              "    </tr>\n",
              "    <tr>\n",
              "      <th>3</th>\n",
              "      <td>Ghufran</td>\n",
              "    </tr>\n",
              "    <tr>\n",
              "      <th>4</th>\n",
              "      <td>Fehmeen</td>\n",
              "    </tr>\n",
              "  </tbody>\n",
              "</table>\n",
              "</div><br><label><b>dtype:</b> object</label>"
            ]
          },
          "metadata": {},
          "execution_count": 98
        }
      ]
    },
    {
      "cell_type": "markdown",
      "source": [
        "4. Print the names of students who passed (scored 70 or above).\n"
      ],
      "metadata": {
        "id": "r3AUJsIIvKrC"
      }
    },
    {
      "cell_type": "code",
      "source": [
        "mask = df['Score'] >= 70\n",
        "df['Name'][mask]"
      ],
      "metadata": {
        "colab": {
          "base_uri": "https://localhost:8080/",
          "height": 115
        },
        "id": "nMFwhvDYtwyg",
        "outputId": "949cb03f-6d87-40e0-b421-732df6ff07d2"
      },
      "execution_count": null,
      "outputs": [
        {
          "output_type": "execute_result",
          "data": {
            "text/plain": [
              "2    Mehtab\n",
              "Name: Name, dtype: object"
            ],
            "text/html": [
              "<div>\n",
              "<style scoped>\n",
              "    .dataframe tbody tr th:only-of-type {\n",
              "        vertical-align: middle;\n",
              "    }\n",
              "\n",
              "    .dataframe tbody tr th {\n",
              "        vertical-align: top;\n",
              "    }\n",
              "\n",
              "    .dataframe thead th {\n",
              "        text-align: right;\n",
              "    }\n",
              "</style>\n",
              "<table border=\"1\" class=\"dataframe\">\n",
              "  <thead>\n",
              "    <tr style=\"text-align: right;\">\n",
              "      <th></th>\n",
              "      <th>Name</th>\n",
              "    </tr>\n",
              "  </thead>\n",
              "  <tbody>\n",
              "    <tr>\n",
              "      <th>2</th>\n",
              "      <td>Mehtab</td>\n",
              "    </tr>\n",
              "  </tbody>\n",
              "</table>\n",
              "</div><br><label><b>dtype:</b> object</label>"
            ]
          },
          "metadata": {},
          "execution_count": 103
        }
      ]
    },
    {
      "cell_type": "markdown",
      "source": [
        "\n",
        "Task 5\n",
        "  1. Create a new Colab notebook.\n",
        "  2. Write Python code to generate the first 10 Fibonacci numbers."
      ],
      "metadata": {
        "id": "rxxNNqOE1rbB"
      }
    },
    {
      "cell_type": "code",
      "source": [
        "def generate(size):\n",
        "  fib_list = [0,1]\n",
        "\n",
        "  for i in range(2,size):\n",
        "    fib_list.append(fib_list[i-2]+fib_list[i-1])\n",
        "  return fib_list"
      ],
      "metadata": {
        "id": "ZJKicBwYuBac"
      },
      "execution_count": null,
      "outputs": []
    },
    {
      "cell_type": "code",
      "source": [
        "print(generate(10))"
      ],
      "metadata": {
        "colab": {
          "base_uri": "https://localhost:8080/"
        },
        "id": "y16HV9FTzwdK",
        "outputId": "aef042fd-b231-41d1-e1a9-58e2be276cdf"
      },
      "execution_count": null,
      "outputs": [
        {
          "output_type": "stream",
          "name": "stdout",
          "text": [
            "[0, 1, 1, 2, 3, 5, 8, 13, 21, 34]\n"
          ]
        }
      ]
    }
  ]
}